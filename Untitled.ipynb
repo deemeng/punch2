{
 "cells": [
  {
   "cell_type": "code",
   "execution_count": 1,
   "id": "d3c9bfac-3ab7-4219-9c83-2d2b256b61de",
   "metadata": {},
   "outputs": [],
   "source": [
    "s='MHKCAIFLLLALSCQQIQAELTAADCRALGFIKAQLMCSSCEKLDDFGLDTIKPQCKQCCTLDQQPAAQRTYAKAILEVCTCKFRAYPQIQAFIQSGRPAKFPNLQIKYVRGLDPVVKLLDASGKVQETLSITKWNTDTVEEFFETHLAKDGAGKNSYSVVEDADGDDDEDYLRTNRI'"
   ]
  },
  {
   "cell_type": "code",
   "execution_count": 2,
   "id": "ce1df2fa-69f4-43f8-9b19-e65f5d4a2da4",
   "metadata": {},
   "outputs": [
    {
     "data": {
      "text/plain": [
       "178"
      ]
     },
     "execution_count": 2,
     "metadata": {},
     "output_type": "execute_result"
    }
   ],
   "source": [
    "len(s)"
   ]
  },
  {
   "cell_type": "code",
   "execution_count": 3,
   "id": "8f0c9eef-3599-4eb9-9269-80da8b7c104a",
   "metadata": {},
   "outputs": [],
   "source": [
    "from utils.common import load_np"
   ]
  },
  {
   "cell_type": "code",
   "execution_count": 5,
   "id": "62f4416e-bf7a-4988-8713-28549ce07751",
   "metadata": {},
   "outputs": [
    {
     "data": {
      "text/plain": [
       "(1, 194, 768)"
      ]
     },
     "execution_count": 5,
     "metadata": {},
     "output_type": "execute_result"
    }
   ],
   "source": [
    "load_np('/home/dimeng/project/idr/data/caid/features/msaTrans/DP03744.npy').shape"
   ]
  },
  {
   "cell_type": "code",
   "execution_count": null,
   "id": "d5ea4ea3-b96c-426d-b297-738109f3d63d",
   "metadata": {},
   "outputs": [],
   "source": []
  }
 ],
 "metadata": {
  "kernelspec": {
   "display_name": "Python 3 (ipykernel)",
   "language": "python",
   "name": "python3"
  },
  "language_info": {
   "codemirror_mode": {
    "name": "ipython",
    "version": 3
   },
   "file_extension": ".py",
   "mimetype": "text/x-python",
   "name": "python",
   "nbconvert_exporter": "python",
   "pygments_lexer": "ipython3",
   "version": "3.12.2"
  }
 },
 "nbformat": 4,
 "nbformat_minor": 5
}
